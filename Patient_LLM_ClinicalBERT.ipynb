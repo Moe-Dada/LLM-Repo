{
  "nbformat": 4,
  "nbformat_minor": 0,
  "metadata": {
    "colab": {
      "provenance": [],
      "authorship_tag": "ABX9TyNduNgNW+kk+qJxlKYMr87U",
      "include_colab_link": true
    },
    "kernelspec": {
      "name": "python3",
      "display_name": "Python 3"
    },
    "language_info": {
      "name": "python"
    }
  },
  "cells": [
    {
      "cell_type": "markdown",
      "metadata": {
        "id": "view-in-github",
        "colab_type": "text"
      },
      "source": [
        "<a href=\"https://colab.research.google.com/github/Moe-Dada/LLM-Repo/blob/main/Patient_LLM_ClinicalBERT.ipynb\" target=\"_parent\"><img src=\"https://colab.research.google.com/assets/colab-badge.svg\" alt=\"Open In Colab\"/></a>"
      ]
    },
    {
      "cell_type": "code",
      "source": [
        "import torch"
      ],
      "metadata": {
        "id": "saA4y8cmw0Lv"
      },
      "execution_count": 1,
      "outputs": []
    },
    {
      "cell_type": "code",
      "source": [
        "from transformers import AutoTokenizer, AutoModelForSequenceClassification\n",
        "import torch\n",
        "\n",
        "model_name = \"medicalai/ClinicalBERT\"\n",
        "tokenizer = AutoTokenizer.from_pretrained(model_name)\n",
        "model = AutoModelForSequenceClassification.from_pretrained(model_name, num_labels=2)  # Binary classification"
      ],
      "metadata": {
        "id": "-UwGHgrmzUUq"
      },
      "execution_count": null,
      "outputs": []
    },
    {
      "cell_type": "code",
      "source": [
        "text = \"Patient John gets frequent headaches.\"\n",
        "inputs = tokenizer(text, return_tensors=\"pt\", truncation=True, padding=True)\n"
      ],
      "metadata": {
        "id": "krcbqYDf0mjk"
      },
      "execution_count": null,
      "outputs": []
    },
    {
      "cell_type": "code",
      "source": [
        "# processing prediction\n",
        "with torch.no_grad():\n",
        "    outputs = model(**inputs)\n",
        "    logits = outputs.logits\n",
        "    probabilities = torch.softmax(logits, dim=1)\n",
        "    predicted_class = torch.argmax(probabilities, dim=1).item()\n",
        "\n",
        "print(f\"Prediction: {predicted_class}\")\n",
        "print(f\"Class probabilities: {probabilities}\")"
      ],
      "metadata": {
        "id": "U2ryNL2L0mz8"
      },
      "execution_count": null,
      "outputs": []
    },
    {
      "cell_type": "code",
      "source": [
        "# TODO\n",
        "# output is eithier 0 or 1, depending on the predicted class\n",
        "# 0: typically means the \"negative class\" (e.g., False, No diagnosis, Does not indicate).\n",
        "# 1: means the \"positive class\" (e.g., True, Diagnosis present, Does indicate).\n",
        "# best predicitions will be from inhouse data - or data of ethnic population\n",
        "# currently we predicting randomly to assume no bias"
      ],
      "metadata": {
        "id": "b11EqCU60z2i"
      },
      "execution_count": null,
      "outputs": []
    }
  ]
}